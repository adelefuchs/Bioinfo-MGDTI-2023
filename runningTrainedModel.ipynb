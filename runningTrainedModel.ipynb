{
 "cells": [
  {
   "cell_type": "code",
   "execution_count": null,
   "metadata": {},
   "outputs": [],
   "source": [
    "from model import mainModel\n",
    "import config\n",
    "from main import get_seqs\n",
    "import torch\n",
    "import numpy as np\n",
    "import pandas as pd\n",
    "import os\n",
    "import dgl\n",
    "\n",
    "device = torch.device(\"cuda\" if torch.cuda.is_available() else \"cpu\")\n",
    "\n",
    "g = dgl.DGLGraph()  # Example graph\n",
    "model = mainModel(g)\n",
    "\n",
    "\n",
    "model_path = 'best_model.pth'\n",
    "net = mainModel(g, in_dims, config.embedding_size, config.num_layers, config.num_gnns,\n",
    "                config.num_heads, config.dropout, temper=config.temper, num_type=len(node_cnt), beta=config.beta)\n",
    "net.load_state_dict(torch.load(model_path))\n",
    "net = net.to(device)\n",
    "net.eval()\n",
    "\n",
    "# Prepare data\n",
    "new_dg_seq = get_seqs(g, new_drug_nodes).to(device)\n",
    "new_pt_seq = get_seqs(g, new_protein_nodes).to(device)\n",
    "\n",
    "# Make predictions\n",
    "with torch.no_grad():\n",
    "    predictions = net(new_features_list, new_dg_seq, new_pt_seq, type_emb, node_type).cpu().numpy()\n",
    "\n",
    "# Save predictions\n",
    "output_df = pd.DataFrame({\n",
    "    'Drug': new_drugs,\n",
    "    'Protein': new_proteins,\n",
    "    'Prediction': predictions\n",
    "})\n",
    "output_df.to_csv('predictions.csv', index=False)\n"
   ]
  },
  {
   "cell_type": "code",
   "execution_count": null,
   "metadata": {},
   "outputs": [],
   "source": [
    "import pandas as pd\n",
    "\n",
    "# Load Pharos data (reclassified proteins)\n",
    "pharos_data = pd.read_csv('pharos_reclassified.csv')\n",
    "\n",
    "# Extract relevant information: drug, protein, and interaction (label)\n",
    "drugs = pharos_data['drug_smiles']  # Example: SMILES strings for drugs\n",
    "proteins = pharos_data['protein_sequence']  # Example: protein sequences\n",
    "interactions = pharos_data['interaction_label']  # Binary interaction (0 or 1)\n",
    "\n",
    "# Convert SMILES strings and protein sequences into numerical representations (embeddings)\n",
    "# This would typically involve using an embedding model or descriptor generator\n",
    "drug_features = convert_smiles_to_features(drugs)  # Function to convert SMILES to features\n",
    "protein_features = convert_sequences_to_features(proteins)  # Function to convert sequences to features\n",
    "\n",
    "# Construct the adjacency matrix based on the interactions (drug-protein pairs)\n",
    "# Create a graph where nodes are drugs and proteins and edges represent interactions\n",
    "adjM = create_adjacency_matrix(drugs, proteins, interactions)\n",
    "\n",
    "# Convert adjacency matrix into a DGL graph\n",
    "g = dgl.DGLGraph(adjM)\n",
    "g = dgl.remove_self_loop(g)\n",
    "\n",
    "# Generate node sequences for drug and protein nodes\n",
    "dg_seq = get_seqs(g, list(range(len(drugs))))  # Sequences for drugs\n",
    "pt_seq = get_seqs(g, list(range(len(drugs), len(drugs) + len(proteins))))  # Sequences for proteins\n",
    "\n",
    "# Split the data into training and test sets\n",
    "train_set, test_set = split_data(pharos_data)\n",
    "\n",
    "# Pass the data into the model\n",
    "train_model(\n",
    "    net, optimizer, fold_nums, epoch, [drug_features, protein_features], node_type, type_emb, dg_seq, pt_seq, train_set[:, 2], model_path\n",
    ")\n"
   ]
  },
  {
   "cell_type": "code",
   "execution_count": 23,
   "metadata": {},
   "outputs": [
    {
     "name": "stdout",
     "output_type": "stream",
     "text": [
      "Requirement already satisfied: torchaudio==2.1.0 in /opt/anaconda3/envs/geometric/lib/python3.11/site-packages (2.1.0)\n",
      "Requirement already satisfied: torch==2.1.0 in /opt/anaconda3/envs/geometric/lib/python3.11/site-packages (2.1.0)\n",
      "Requirement already satisfied: torchdata==0.7.0 in /opt/anaconda3/envs/geometric/lib/python3.11/site-packages (0.7.0)\n",
      "Requirement already satisfied: filelock in /opt/anaconda3/envs/geometric/lib/python3.11/site-packages (from torch==2.1.0) (3.16.1)\n",
      "Requirement already satisfied: typing-extensions in /opt/anaconda3/envs/geometric/lib/python3.11/site-packages (from torch==2.1.0) (4.12.2)\n",
      "Requirement already satisfied: sympy in /opt/anaconda3/envs/geometric/lib/python3.11/site-packages (from torch==2.1.0) (1.13.1)\n",
      "Requirement already satisfied: networkx in /opt/anaconda3/envs/geometric/lib/python3.11/site-packages (from torch==2.1.0) (3.4.2)\n",
      "Requirement already satisfied: jinja2 in /opt/anaconda3/envs/geometric/lib/python3.11/site-packages (from torch==2.1.0) (3.1.5)\n",
      "Requirement already satisfied: fsspec in /opt/anaconda3/envs/geometric/lib/python3.11/site-packages (from torch==2.1.0) (2024.12.0)\n",
      "Requirement already satisfied: urllib3>=1.25 in /opt/anaconda3/envs/geometric/lib/python3.11/site-packages (from torchdata==0.7.0) (2.3.0)\n",
      "Requirement already satisfied: requests in /opt/anaconda3/envs/geometric/lib/python3.11/site-packages (from torchdata==0.7.0) (2.32.3)\n",
      "Requirement already satisfied: MarkupSafe>=2.0 in /opt/anaconda3/envs/geometric/lib/python3.11/site-packages (from jinja2->torch==2.1.0) (3.0.2)\n",
      "Requirement already satisfied: charset_normalizer<4,>=2 in /opt/anaconda3/envs/geometric/lib/python3.11/site-packages (from requests->torchdata==0.7.0) (3.4.1)\n",
      "Requirement already satisfied: idna<4,>=2.5 in /opt/anaconda3/envs/geometric/lib/python3.11/site-packages (from requests->torchdata==0.7.0) (3.10)\n",
      "Requirement already satisfied: certifi>=2017.4.17 in /opt/anaconda3/envs/geometric/lib/python3.11/site-packages (from requests->torchdata==0.7.0) (2024.12.14)\n",
      "Requirement already satisfied: mpmath<1.4,>=1.1.0 in /opt/anaconda3/envs/geometric/lib/python3.11/site-packages (from sympy->torch==2.1.0) (1.3.0)\n",
      "Note: you may need to restart the kernel to use updated packages.\n"
     ]
    }
   ],
   "source": [
    "%pip install torchaudio==2.1.0  torch==2.1.0 torchdata==0.7.0"
   ]
  },
  {
   "cell_type": "code",
   "execution_count": 20,
   "metadata": {},
   "outputs": [
    {
     "name": "stdout",
     "output_type": "stream",
     "text": [
      "Collecting pydantic\n",
      "  Downloading pydantic-2.10.6-py3-none-any.whl.metadata (30 kB)\n",
      "Collecting annotated-types>=0.6.0 (from pydantic)\n",
      "  Downloading annotated_types-0.7.0-py3-none-any.whl.metadata (15 kB)\n",
      "Collecting pydantic-core==2.27.2 (from pydantic)\n",
      "  Downloading pydantic_core-2.27.2-cp311-cp311-macosx_11_0_arm64.whl.metadata (6.6 kB)\n",
      "Requirement already satisfied: typing-extensions>=4.12.2 in /opt/anaconda3/envs/geometric/lib/python3.11/site-packages (from pydantic) (4.12.2)\n",
      "Downloading pydantic-2.10.6-py3-none-any.whl (431 kB)\n",
      "Downloading pydantic_core-2.27.2-cp311-cp311-macosx_11_0_arm64.whl (1.8 MB)\n",
      "\u001b[2K   \u001b[90m━━━━━━━━━━━━━━━━━━━━━━━━━━━━━━━━━━━━━━━━\u001b[0m \u001b[32m1.8/1.8 MB\u001b[0m \u001b[31m23.3 MB/s\u001b[0m eta \u001b[36m0:00:00\u001b[0m\n",
      "\u001b[?25hDownloading annotated_types-0.7.0-py3-none-any.whl (13 kB)\n",
      "Installing collected packages: pydantic-core, annotated-types, pydantic\n",
      "Successfully installed annotated-types-0.7.0 pydantic-2.10.6 pydantic-core-2.27.2\n",
      "Note: you may need to restart the kernel to use updated packages.\n"
     ]
    }
   ],
   "source": [
    "%pip install pydantic"
   ]
  },
  {
   "cell_type": "code",
   "execution_count": null,
   "metadata": {},
   "outputs": [
    {
     "ename": "FileNotFoundError",
     "evalue": "Cannot find DGL C++ graphbolt library at /opt/anaconda3/envs/geometric/lib/python3.11/site-packages/dgl/graphbolt/libgraphbolt_pytorch_2.5.1.dylib",
     "output_type": "error",
     "traceback": [
      "\u001b[0;31m---------------------------------------------------------------------------\u001b[0m",
      "\u001b[0;31mFileNotFoundError\u001b[0m                         Traceback (most recent call last)",
      "Cell \u001b[0;32mIn[24], line 3\u001b[0m\n\u001b[1;32m      1\u001b[0m \u001b[38;5;28;01mimport\u001b[39;00m\u001b[38;5;250m \u001b[39m\u001b[38;5;21;01mtorch\u001b[39;00m\n\u001b[1;32m      2\u001b[0m \u001b[38;5;28;01mfrom\u001b[39;00m\u001b[38;5;250m \u001b[39m\u001b[38;5;21;01mtorchsummary\u001b[39;00m\u001b[38;5;250m \u001b[39m\u001b[38;5;28;01mimport\u001b[39;00m summary\n\u001b[0;32m----> 3\u001b[0m \u001b[38;5;28;01mfrom\u001b[39;00m\u001b[38;5;250m \u001b[39m\u001b[38;5;21;01mmodel\u001b[39;00m\u001b[38;5;250m \u001b[39m\u001b[38;5;28;01mimport\u001b[39;00m mainModel\n\u001b[1;32m      5\u001b[0m \u001b[38;5;66;03m# Load the model\u001b[39;00m\n\u001b[1;32m      6\u001b[0m map_location \u001b[38;5;241m=\u001b[39m torch\u001b[38;5;241m.\u001b[39mdevice(\u001b[38;5;124m'\u001b[39m\u001b[38;5;124mcpu\u001b[39m\u001b[38;5;124m'\u001b[39m)\n",
      "File \u001b[0;32m~/Documents/GitHub/Bioinfo-MGDTI-2023/model.py:3\u001b[0m\n\u001b[1;32m      1\u001b[0m \u001b[38;5;28;01mimport\u001b[39;00m\u001b[38;5;250m \u001b[39m\u001b[38;5;21;01mmath\u001b[39;00m\n\u001b[0;32m----> 3\u001b[0m \u001b[38;5;28;01mimport\u001b[39;00m\u001b[38;5;250m \u001b[39m\u001b[38;5;21;01mdgl\u001b[39;00m\n\u001b[1;32m      4\u001b[0m \u001b[38;5;28;01mimport\u001b[39;00m\u001b[38;5;250m \u001b[39m\u001b[38;5;21;01mdgl\u001b[39;00m\u001b[38;5;21;01m.\u001b[39;00m\u001b[38;5;21;01mfunction\u001b[39;00m\u001b[38;5;250m \u001b[39m\u001b[38;5;28;01mas\u001b[39;00m\u001b[38;5;250m \u001b[39m\u001b[38;5;21;01mfn\u001b[39;00m\n\u001b[1;32m      5\u001b[0m \u001b[38;5;28;01mimport\u001b[39;00m\u001b[38;5;250m \u001b[39m\u001b[38;5;21;01mtorch\u001b[39;00m\n",
      "File \u001b[0;32m/opt/anaconda3/envs/geometric/lib/python3.11/site-packages/dgl/__init__.py:16\u001b[0m\n\u001b[1;32m     13\u001b[0m \u001b[38;5;28;01mfrom\u001b[39;00m\u001b[38;5;250m \u001b[39m\u001b[38;5;21;01m.\u001b[39;00m\u001b[38;5;21;01mlogging\u001b[39;00m\u001b[38;5;250m \u001b[39m\u001b[38;5;28;01mimport\u001b[39;00m enable_verbose_logging  \u001b[38;5;66;03m# usort: skip\u001b[39;00m\n\u001b[1;32m     14\u001b[0m \u001b[38;5;28;01mfrom\u001b[39;00m\u001b[38;5;250m \u001b[39m\u001b[38;5;21;01m.\u001b[39;00m\u001b[38;5;21;01mbackend\u001b[39;00m\u001b[38;5;250m \u001b[39m\u001b[38;5;28;01mimport\u001b[39;00m backend_name, load_backend  \u001b[38;5;66;03m# usort: skip\u001b[39;00m\n\u001b[0;32m---> 16\u001b[0m \u001b[38;5;28;01mfrom\u001b[39;00m\u001b[38;5;250m \u001b[39m\u001b[38;5;21;01m.\u001b[39;00m\u001b[38;5;250m \u001b[39m\u001b[38;5;28;01mimport\u001b[39;00m (\n\u001b[1;32m     17\u001b[0m     container,\n\u001b[1;32m     18\u001b[0m     cuda,\n\u001b[1;32m     19\u001b[0m     dataloading,\n\u001b[1;32m     20\u001b[0m     function,\n\u001b[1;32m     21\u001b[0m     ops,\n\u001b[1;32m     22\u001b[0m     random,\n\u001b[1;32m     23\u001b[0m     sampling,\n\u001b[1;32m     24\u001b[0m     storages,\n\u001b[1;32m     25\u001b[0m )\n\u001b[1;32m     26\u001b[0m \u001b[38;5;28;01mfrom\u001b[39;00m\u001b[38;5;250m \u001b[39m\u001b[38;5;21;01m.\u001b[39;00m\u001b[38;5;21;01m_ffi\u001b[39;00m\u001b[38;5;21;01m.\u001b[39;00m\u001b[38;5;21;01mbase\u001b[39;00m\u001b[38;5;250m \u001b[39m\u001b[38;5;28;01mimport\u001b[39;00m __version__, DGLError\n\u001b[1;32m     27\u001b[0m \u001b[38;5;28;01mfrom\u001b[39;00m\u001b[38;5;250m \u001b[39m\u001b[38;5;21;01m.\u001b[39;00m\u001b[38;5;21;01m_ffi\u001b[39;00m\u001b[38;5;21;01m.\u001b[39;00m\u001b[38;5;21;01mfunction\u001b[39;00m\u001b[38;5;250m \u001b[39m\u001b[38;5;28;01mimport\u001b[39;00m (\n\u001b[1;32m     28\u001b[0m     extract_ext_funcs,\n\u001b[1;32m     29\u001b[0m     get_global_func,\n\u001b[1;32m     30\u001b[0m     list_global_func_names,\n\u001b[1;32m     31\u001b[0m     register_func,\n\u001b[1;32m     32\u001b[0m )\n",
      "File \u001b[0;32m/opt/anaconda3/envs/geometric/lib/python3.11/site-packages/dgl/dataloading/__init__.py:13\u001b[0m\n\u001b[1;32m     11\u001b[0m \u001b[38;5;28;01mif\u001b[39;00m F\u001b[38;5;241m.\u001b[39mget_preferred_backend() \u001b[38;5;241m==\u001b[39m \u001b[38;5;124m\"\u001b[39m\u001b[38;5;124mpytorch\u001b[39m\u001b[38;5;124m\"\u001b[39m:\n\u001b[1;32m     12\u001b[0m     \u001b[38;5;28;01mfrom\u001b[39;00m\u001b[38;5;250m \u001b[39m\u001b[38;5;21;01m.\u001b[39;00m\u001b[38;5;21;01mspot_target\u001b[39;00m\u001b[38;5;250m \u001b[39m\u001b[38;5;28;01mimport\u001b[39;00m \u001b[38;5;241m*\u001b[39m\n\u001b[0;32m---> 13\u001b[0m     \u001b[38;5;28;01mfrom\u001b[39;00m\u001b[38;5;250m \u001b[39m\u001b[38;5;21;01m.\u001b[39;00m\u001b[38;5;21;01mdataloader\u001b[39;00m\u001b[38;5;250m \u001b[39m\u001b[38;5;28;01mimport\u001b[39;00m \u001b[38;5;241m*\u001b[39m\n\u001b[1;32m     14\u001b[0m     \u001b[38;5;28;01mfrom\u001b[39;00m\u001b[38;5;250m \u001b[39m\u001b[38;5;21;01m.\u001b[39;00m\u001b[38;5;21;01mdist_dataloader\u001b[39;00m\u001b[38;5;250m \u001b[39m\u001b[38;5;28;01mimport\u001b[39;00m \u001b[38;5;241m*\u001b[39m\n",
      "File \u001b[0;32m/opt/anaconda3/envs/geometric/lib/python3.11/site-packages/dgl/dataloading/dataloader.py:27\u001b[0m\n\u001b[1;32m     25\u001b[0m \u001b[38;5;28;01mfrom\u001b[39;00m\u001b[38;5;250m \u001b[39m\u001b[38;5;21;01m.\u001b[39;00m\u001b[38;5;21;01m.\u001b[39;00m\u001b[38;5;21;01mbatch\u001b[39;00m\u001b[38;5;250m \u001b[39m\u001b[38;5;28;01mimport\u001b[39;00m batch \u001b[38;5;28;01mas\u001b[39;00m batch_graphs\n\u001b[1;32m     26\u001b[0m \u001b[38;5;28;01mfrom\u001b[39;00m\u001b[38;5;250m \u001b[39m\u001b[38;5;21;01m.\u001b[39;00m\u001b[38;5;21;01m.\u001b[39;00m\u001b[38;5;21;01mcuda\u001b[39;00m\u001b[38;5;250m \u001b[39m\u001b[38;5;28;01mimport\u001b[39;00m GPUCache\n\u001b[0;32m---> 27\u001b[0m \u001b[38;5;28;01mfrom\u001b[39;00m\u001b[38;5;250m \u001b[39m\u001b[38;5;21;01m.\u001b[39;00m\u001b[38;5;21;01m.\u001b[39;00m\u001b[38;5;21;01mdistributed\u001b[39;00m\u001b[38;5;250m \u001b[39m\u001b[38;5;28;01mimport\u001b[39;00m DistGraph\n\u001b[1;32m     28\u001b[0m \u001b[38;5;28;01mfrom\u001b[39;00m\u001b[38;5;250m \u001b[39m\u001b[38;5;21;01m.\u001b[39;00m\u001b[38;5;21;01m.\u001b[39;00m\u001b[38;5;21;01mframe\u001b[39;00m\u001b[38;5;250m \u001b[39m\u001b[38;5;28;01mimport\u001b[39;00m LazyFeature\n\u001b[1;32m     29\u001b[0m \u001b[38;5;28;01mfrom\u001b[39;00m\u001b[38;5;250m \u001b[39m\u001b[38;5;21;01m.\u001b[39;00m\u001b[38;5;21;01m.\u001b[39;00m\u001b[38;5;21;01mheterograph\u001b[39;00m\u001b[38;5;250m \u001b[39m\u001b[38;5;28;01mimport\u001b[39;00m DGLGraph\n",
      "File \u001b[0;32m/opt/anaconda3/envs/geometric/lib/python3.11/site-packages/dgl/distributed/__init__.py:5\u001b[0m\n\u001b[1;32m      3\u001b[0m \u001b[38;5;28;01mfrom\u001b[39;00m\u001b[38;5;250m \u001b[39m\u001b[38;5;21;01m.\u001b[39;00m\u001b[38;5;21;01mdist_context\u001b[39;00m\u001b[38;5;250m \u001b[39m\u001b[38;5;28;01mimport\u001b[39;00m exit_client, initialize\n\u001b[1;32m      4\u001b[0m \u001b[38;5;28;01mfrom\u001b[39;00m\u001b[38;5;250m \u001b[39m\u001b[38;5;21;01m.\u001b[39;00m\u001b[38;5;21;01mdist_dataloader\u001b[39;00m\u001b[38;5;250m \u001b[39m\u001b[38;5;28;01mimport\u001b[39;00m DistDataLoader\n\u001b[0;32m----> 5\u001b[0m \u001b[38;5;28;01mfrom\u001b[39;00m\u001b[38;5;250m \u001b[39m\u001b[38;5;21;01m.\u001b[39;00m\u001b[38;5;21;01mdist_graph\u001b[39;00m\u001b[38;5;250m \u001b[39m\u001b[38;5;28;01mimport\u001b[39;00m DistGraph, DistGraphServer, edge_split, node_split\n\u001b[1;32m      6\u001b[0m \u001b[38;5;28;01mfrom\u001b[39;00m\u001b[38;5;250m \u001b[39m\u001b[38;5;21;01m.\u001b[39;00m\u001b[38;5;21;01mdist_tensor\u001b[39;00m\u001b[38;5;250m \u001b[39m\u001b[38;5;28;01mimport\u001b[39;00m DistTensor\n\u001b[1;32m      7\u001b[0m \u001b[38;5;28;01mfrom\u001b[39;00m\u001b[38;5;250m \u001b[39m\u001b[38;5;21;01m.\u001b[39;00m\u001b[38;5;21;01mgraph_partition_book\u001b[39;00m\u001b[38;5;250m \u001b[39m\u001b[38;5;28;01mimport\u001b[39;00m GraphPartitionBook, PartitionPolicy\n",
      "File \u001b[0;32m/opt/anaconda3/envs/geometric/lib/python3.11/site-packages/dgl/distributed/dist_graph.py:11\u001b[0m\n\u001b[1;32m      7\u001b[0m \u001b[38;5;28;01mfrom\u001b[39;00m\u001b[38;5;250m \u001b[39m\u001b[38;5;21;01mcollections\u001b[39;00m\u001b[38;5;21;01m.\u001b[39;00m\u001b[38;5;21;01mabc\u001b[39;00m\u001b[38;5;250m \u001b[39m\u001b[38;5;28;01mimport\u001b[39;00m MutableMapping\n\u001b[1;32m      9\u001b[0m \u001b[38;5;28;01mimport\u001b[39;00m\u001b[38;5;250m \u001b[39m\u001b[38;5;21;01mnumpy\u001b[39;00m\u001b[38;5;250m \u001b[39m\u001b[38;5;28;01mas\u001b[39;00m\u001b[38;5;250m \u001b[39m\u001b[38;5;21;01mnp\u001b[39;00m\n\u001b[0;32m---> 11\u001b[0m \u001b[38;5;28;01mfrom\u001b[39;00m\u001b[38;5;250m \u001b[39m\u001b[38;5;21;01m.\u001b[39;00m\u001b[38;5;21;01m.\u001b[39;00m\u001b[38;5;250m \u001b[39m\u001b[38;5;28;01mimport\u001b[39;00m backend \u001b[38;5;28;01mas\u001b[39;00m F, graphbolt \u001b[38;5;28;01mas\u001b[39;00m gb, heterograph_index\n\u001b[1;32m     12\u001b[0m \u001b[38;5;28;01mfrom\u001b[39;00m\u001b[38;5;250m \u001b[39m\u001b[38;5;21;01m.\u001b[39;00m\u001b[38;5;21;01m.\u001b[39;00m\u001b[38;5;21;01m_ffi\u001b[39;00m\u001b[38;5;21;01m.\u001b[39;00m\u001b[38;5;21;01mndarray\u001b[39;00m\u001b[38;5;250m \u001b[39m\u001b[38;5;28;01mimport\u001b[39;00m empty_shared_mem\n\u001b[1;32m     13\u001b[0m \u001b[38;5;28;01mfrom\u001b[39;00m\u001b[38;5;250m \u001b[39m\u001b[38;5;21;01m.\u001b[39;00m\u001b[38;5;21;01m.\u001b[39;00m\u001b[38;5;21;01mbase\u001b[39;00m\u001b[38;5;250m \u001b[39m\u001b[38;5;28;01mimport\u001b[39;00m ALL, DGLError, EID, ETYPE, is_all, NID\n",
      "File \u001b[0;32m/opt/anaconda3/envs/geometric/lib/python3.11/site-packages/dgl/graphbolt/__init__.py:55\u001b[0m\n\u001b[1;32m     51\u001b[0m     \u001b[38;5;28;01mexcept\u001b[39;00m \u001b[38;5;167;01mException\u001b[39;00m:  \u001b[38;5;66;03m# pylint: disable=W0703\u001b[39;00m\n\u001b[1;32m     52\u001b[0m         \u001b[38;5;28;01mraise\u001b[39;00m \u001b[38;5;167;01mImportError\u001b[39;00m(\u001b[38;5;124m\"\u001b[39m\u001b[38;5;124mCannot load Graphbolt C++ library\u001b[39m\u001b[38;5;124m\"\u001b[39m)\n\u001b[0;32m---> 55\u001b[0m \u001b[43mload_graphbolt\u001b[49m\u001b[43m(\u001b[49m\u001b[43m)\u001b[49m\n",
      "File \u001b[0;32m/opt/anaconda3/envs/geometric/lib/python3.11/site-packages/dgl/graphbolt/__init__.py:45\u001b[0m, in \u001b[0;36mload_graphbolt\u001b[0;34m()\u001b[0m\n\u001b[1;32m     43\u001b[0m path \u001b[38;5;241m=\u001b[39m os\u001b[38;5;241m.\u001b[39mpath\u001b[38;5;241m.\u001b[39mjoin(dirname, \u001b[38;5;124m\"\u001b[39m\u001b[38;5;124mgraphbolt\u001b[39m\u001b[38;5;124m\"\u001b[39m, basename)\n\u001b[1;32m     44\u001b[0m \u001b[38;5;28;01mif\u001b[39;00m \u001b[38;5;129;01mnot\u001b[39;00m os\u001b[38;5;241m.\u001b[39mpath\u001b[38;5;241m.\u001b[39mexists(path):\n\u001b[0;32m---> 45\u001b[0m     \u001b[38;5;28;01mraise\u001b[39;00m \u001b[38;5;167;01mFileNotFoundError\u001b[39;00m(\n\u001b[1;32m     46\u001b[0m         \u001b[38;5;124mf\u001b[39m\u001b[38;5;124m\"\u001b[39m\u001b[38;5;124mCannot find DGL C++ graphbolt library at \u001b[39m\u001b[38;5;132;01m{\u001b[39;00mpath\u001b[38;5;132;01m}\u001b[39;00m\u001b[38;5;124m\"\u001b[39m\n\u001b[1;32m     47\u001b[0m     )\n\u001b[1;32m     49\u001b[0m \u001b[38;5;28;01mtry\u001b[39;00m:\n\u001b[1;32m     50\u001b[0m     torch\u001b[38;5;241m.\u001b[39mclasses\u001b[38;5;241m.\u001b[39mload_library(path)\n",
      "\u001b[0;31mFileNotFoundError\u001b[0m: Cannot find DGL C++ graphbolt library at /opt/anaconda3/envs/geometric/lib/python3.11/site-packages/dgl/graphbolt/libgraphbolt_pytorch_2.5.1.dylib"
     ]
    }
   ],
   "source": [
    "from model import mainModel\n",
    "from config import Config\n",
    "from main_dp import get_seqs\n",
    "import torch\n",
    "import numpy as np\n",
    "import pandas as pd\n",
    "import dgl\n",
    "\n",
    "config = Config()\n",
    "device = torch.device(\"cuda\" if torch.cuda.is_available() else \"cpu\")\n",
    "\n",
    "# Example: Load a graph from an edge list\n",
    "edges = torch.tensor([[0, 1], [1, 2], [2, 3]])  # Example edges\n",
    "g = dgl.graph((edges[0], edges[1]))\n",
    "\n",
    "# Add node features (128 dimensions as an example)\n",
    "g.ndata['feat'] = torch.randn(g.num_nodes(), 128)\n",
    "input_dimensions = g.ndata['feat'].shape[1]\n",
    "\n",
    "# Load the model\n",
    "model_path = 'best_model.pth'\n",
    "net = mainModel(g, input_dimensions, config.embedding_size, config.num_layers, config.num_gnns,\n",
    "                config.num_heads, config.dropout, temper=config.temper, num_type=4, beta=config.beta)\n",
    "net.load_state_dict(torch.load(model_path, map_location=device))\n",
    "net = net.to(device)\n",
    "net.eval()\n",
    "\n",
    "# Load new input data (example)\n",
    "new_drug_nodes = torch.randint(0, g.num_nodes(), (10,)).to(device)  # Example indices\n",
    "new_protein_nodes = torch.randint(0, g.num_nodes(), (10,)).to(device)\n",
    "\n",
    "# Get sequences\n",
    "new_dg_seq = get_seqs(g, new_drug_nodes).to(device)\n",
    "new_pt_seq = get_seqs(g, new_protein_nodes).to(device)\n",
    "\n",
    "# Example for type_emb and node_type\n",
    "type_emb = torch.nn.Embedding(10, 128).to(device)\n",
    "node_type = torch.randint(0, 10, (g.num_nodes(),)).to(device)\n",
    "\n",
    "# Make predictions\n",
    "with torch.no_grad():\n",
    "    new_features_list = g.ndata['feat'][new_drug_nodes]\n",
    "    predictions = net(new_features_list, new_dg_seq, new_pt_seq, type_emb, node_type).cpu().numpy()\n",
    "\n",
    "# Save predictions\n",
    "output_df = pd.DataFrame({\n",
    "    'Drug': new_drug_nodes.cpu().numpy(),\n",
    "    'Protein': new_protein_nodes.cpu().numpy(),\n",
    "    'Prediction': predictions\n",
    "})\n",
    "output_df.to_csv('predictions.csv', index=False)\n"
   ]
  },
  {
   "cell_type": "code",
   "execution_count": 26,
   "metadata": {},
   "outputs": [
    {
     "name": "stdout",
     "output_type": "stream",
     "text": [
      "odict_keys(['vars.fc_list_w_0', 'vars.fc_list_b_0', 'vars.fc_list_w_1', 'vars.fc_list_b_1', 'vars.proj_w_0_d', 'vars.proj_b_0_d', 'vars.proj_w_1_d', 'vars.proj_b_1_d', 'vars.proj_w_0_p', 'vars.proj_b_0_p', 'vars.proj_w_1_p', 'vars.proj_b_1_p', 'vars.ml_fc_w1', 'vars.ml_fc_b1', 'vars.ml_fc_w2', 'vars.ml_fc_b2', 'vars.ml_fc_w3', 'vars.ml_fc_b3', 'vars.gcn_w_0', 'vars.gcn_w_1', 'vars.gcn_w_2', 'vars.GT_linear_l_w_dg_0', 'vars.GT_linear_r_w_dg_0', 'vars.GT_att_l_dg_0', 'vars.GT_att_r_dg_0', 'vars.linear_final_dg_0', 'vars.GT_linear_l_w_dg_1', 'vars.GT_linear_r_w_dg_1', 'vars.GT_att_l_dg_1', 'vars.GT_att_r_dg_1', 'vars.linear_final_dg_1', 'vars.GT_linear_l_w_pt_0', 'vars.GT_linear_r_w_pt_0', 'vars.GT_att_l_pt_0', 'vars.GT_att_r_pt_0', 'vars.linear_final_pt_0', 'vars.GT_linear_l_w_pt_1', 'vars.GT_linear_r_w_pt_1', 'vars.GT_att_l_pt_1', 'vars.GT_att_r_pt_1', 'vars.linear_final_pt_1', 'proj_d.vars.fc_list_w_0', 'proj_d.vars.fc_list_b_0', 'proj_d.vars.fc_list_w_1', 'proj_d.vars.fc_list_b_1', 'proj_d.vars.proj_w_0_d', 'proj_d.vars.proj_b_0_d', 'proj_d.vars.proj_w_1_d', 'proj_d.vars.proj_b_1_d', 'proj_d.vars.proj_w_0_p', 'proj_d.vars.proj_b_0_p', 'proj_d.vars.proj_w_1_p', 'proj_d.vars.proj_b_1_p', 'proj_d.vars.ml_fc_w1', 'proj_d.vars.ml_fc_b1', 'proj_d.vars.ml_fc_w2', 'proj_d.vars.ml_fc_b2', 'proj_d.vars.ml_fc_w3', 'proj_d.vars.ml_fc_b3', 'proj_d.vars.gcn_w_0', 'proj_d.vars.gcn_w_1', 'proj_d.vars.gcn_w_2', 'proj_d.vars.GT_linear_l_w_dg_0', 'proj_d.vars.GT_linear_r_w_dg_0', 'proj_d.vars.GT_att_l_dg_0', 'proj_d.vars.GT_att_r_dg_0', 'proj_d.vars.linear_final_dg_0', 'proj_d.vars.GT_linear_l_w_dg_1', 'proj_d.vars.GT_linear_r_w_dg_1', 'proj_d.vars.GT_att_l_dg_1', 'proj_d.vars.GT_att_r_dg_1', 'proj_d.vars.linear_final_dg_1', 'proj_d.vars.GT_linear_l_w_pt_0', 'proj_d.vars.GT_linear_r_w_pt_0', 'proj_d.vars.GT_att_l_pt_0', 'proj_d.vars.GT_att_r_pt_0', 'proj_d.vars.linear_final_pt_0', 'proj_d.vars.GT_linear_l_w_pt_1', 'proj_d.vars.GT_linear_r_w_pt_1', 'proj_d.vars.GT_att_l_pt_1', 'proj_d.vars.GT_att_r_pt_1', 'proj_d.vars.linear_final_pt_1', 'proj_p.vars.fc_list_w_0', 'proj_p.vars.fc_list_b_0', 'proj_p.vars.fc_list_w_1', 'proj_p.vars.fc_list_b_1', 'proj_p.vars.proj_w_0_d', 'proj_p.vars.proj_b_0_d', 'proj_p.vars.proj_w_1_d', 'proj_p.vars.proj_b_1_d', 'proj_p.vars.proj_w_0_p', 'proj_p.vars.proj_b_0_p', 'proj_p.vars.proj_w_1_p', 'proj_p.vars.proj_b_1_p', 'proj_p.vars.ml_fc_w1', 'proj_p.vars.ml_fc_b1', 'proj_p.vars.ml_fc_w2', 'proj_p.vars.ml_fc_b2', 'proj_p.vars.ml_fc_w3', 'proj_p.vars.ml_fc_b3', 'proj_p.vars.gcn_w_0', 'proj_p.vars.gcn_w_1', 'proj_p.vars.gcn_w_2', 'proj_p.vars.GT_linear_l_w_dg_0', 'proj_p.vars.GT_linear_r_w_dg_0', 'proj_p.vars.GT_att_l_dg_0', 'proj_p.vars.GT_att_r_dg_0', 'proj_p.vars.linear_final_dg_0', 'proj_p.vars.GT_linear_l_w_dg_1', 'proj_p.vars.GT_linear_r_w_dg_1', 'proj_p.vars.GT_att_l_dg_1', 'proj_p.vars.GT_att_r_dg_1', 'proj_p.vars.linear_final_dg_1', 'proj_p.vars.GT_linear_l_w_pt_0', 'proj_p.vars.GT_linear_r_w_pt_0', 'proj_p.vars.GT_att_l_pt_0', 'proj_p.vars.GT_att_r_pt_0', 'proj_p.vars.linear_final_pt_0', 'proj_p.vars.GT_linear_l_w_pt_1', 'proj_p.vars.GT_linear_r_w_pt_1', 'proj_p.vars.GT_att_l_pt_1', 'proj_p.vars.GT_att_r_pt_1', 'proj_p.vars.linear_final_pt_1', 'predict.mlp.vars.fc_list_w_0', 'predict.mlp.vars.fc_list_b_0', 'predict.mlp.vars.fc_list_w_1', 'predict.mlp.vars.fc_list_b_1', 'predict.mlp.vars.proj_w_0_d', 'predict.mlp.vars.proj_b_0_d', 'predict.mlp.vars.proj_w_1_d', 'predict.mlp.vars.proj_b_1_d', 'predict.mlp.vars.proj_w_0_p', 'predict.mlp.vars.proj_b_0_p', 'predict.mlp.vars.proj_w_1_p', 'predict.mlp.vars.proj_b_1_p', 'predict.mlp.vars.ml_fc_w1', 'predict.mlp.vars.ml_fc_b1', 'predict.mlp.vars.ml_fc_w2', 'predict.mlp.vars.ml_fc_b2', 'predict.mlp.vars.ml_fc_w3', 'predict.mlp.vars.ml_fc_b3', 'predict.mlp.vars.gcn_w_0', 'predict.mlp.vars.gcn_w_1', 'predict.mlp.vars.gcn_w_2', 'predict.mlp.vars.GT_linear_l_w_dg_0', 'predict.mlp.vars.GT_linear_r_w_dg_0', 'predict.mlp.vars.GT_att_l_dg_0', 'predict.mlp.vars.GT_att_r_dg_0', 'predict.mlp.vars.linear_final_dg_0', 'predict.mlp.vars.GT_linear_l_w_dg_1', 'predict.mlp.vars.GT_linear_r_w_dg_1', 'predict.mlp.vars.GT_att_l_dg_1', 'predict.mlp.vars.GT_att_r_dg_1', 'predict.mlp.vars.linear_final_dg_1', 'predict.mlp.vars.GT_linear_l_w_pt_0', 'predict.mlp.vars.GT_linear_r_w_pt_0', 'predict.mlp.vars.GT_att_l_pt_0', 'predict.mlp.vars.GT_att_r_pt_0', 'predict.mlp.vars.linear_final_pt_0', 'predict.mlp.vars.GT_linear_l_w_pt_1', 'predict.mlp.vars.GT_linear_r_w_pt_1', 'predict.mlp.vars.GT_att_l_pt_1', 'predict.mlp.vars.GT_att_r_pt_1', 'predict.mlp.vars.linear_final_pt_1', 'GCNLayers.0.bias', 'GCNLayers.1.bias', 'GCNLayers.2.bias', 'GTLayers_dg.0.vars.fc_list_w_0', 'GTLayers_dg.0.vars.fc_list_b_0', 'GTLayers_dg.0.vars.fc_list_w_1', 'GTLayers_dg.0.vars.fc_list_b_1', 'GTLayers_dg.0.vars.proj_w_0_d', 'GTLayers_dg.0.vars.proj_b_0_d', 'GTLayers_dg.0.vars.proj_w_1_d', 'GTLayers_dg.0.vars.proj_b_1_d', 'GTLayers_dg.0.vars.proj_w_0_p', 'GTLayers_dg.0.vars.proj_b_0_p', 'GTLayers_dg.0.vars.proj_w_1_p', 'GTLayers_dg.0.vars.proj_b_1_p', 'GTLayers_dg.0.vars.ml_fc_w1', 'GTLayers_dg.0.vars.ml_fc_b1', 'GTLayers_dg.0.vars.ml_fc_w2', 'GTLayers_dg.0.vars.ml_fc_b2', 'GTLayers_dg.0.vars.ml_fc_w3', 'GTLayers_dg.0.vars.ml_fc_b3', 'GTLayers_dg.0.vars.gcn_w_0', 'GTLayers_dg.0.vars.gcn_w_1', 'GTLayers_dg.0.vars.gcn_w_2', 'GTLayers_dg.0.vars.GT_linear_l_w_dg_0', 'GTLayers_dg.0.vars.GT_linear_r_w_dg_0', 'GTLayers_dg.0.vars.GT_att_l_dg_0', 'GTLayers_dg.0.vars.GT_att_r_dg_0', 'GTLayers_dg.0.vars.linear_final_dg_0', 'GTLayers_dg.0.vars.GT_linear_l_w_dg_1', 'GTLayers_dg.0.vars.GT_linear_r_w_dg_1', 'GTLayers_dg.0.vars.GT_att_l_dg_1', 'GTLayers_dg.0.vars.GT_att_r_dg_1', 'GTLayers_dg.0.vars.linear_final_dg_1', 'GTLayers_dg.0.vars.GT_linear_l_w_pt_0', 'GTLayers_dg.0.vars.GT_linear_r_w_pt_0', 'GTLayers_dg.0.vars.GT_att_l_pt_0', 'GTLayers_dg.0.vars.GT_att_r_pt_0', 'GTLayers_dg.0.vars.linear_final_pt_0', 'GTLayers_dg.0.vars.GT_linear_l_w_pt_1', 'GTLayers_dg.0.vars.GT_linear_r_w_pt_1', 'GTLayers_dg.0.vars.GT_att_l_pt_1', 'GTLayers_dg.0.vars.GT_att_r_pt_1', 'GTLayers_dg.0.vars.linear_final_pt_1', 'GTLayers_dg.0.LN.weight', 'GTLayers_dg.0.LN.bias', 'GTLayers_dg.1.vars.fc_list_w_0', 'GTLayers_dg.1.vars.fc_list_b_0', 'GTLayers_dg.1.vars.fc_list_w_1', 'GTLayers_dg.1.vars.fc_list_b_1', 'GTLayers_dg.1.vars.proj_w_0_d', 'GTLayers_dg.1.vars.proj_b_0_d', 'GTLayers_dg.1.vars.proj_w_1_d', 'GTLayers_dg.1.vars.proj_b_1_d', 'GTLayers_dg.1.vars.proj_w_0_p', 'GTLayers_dg.1.vars.proj_b_0_p', 'GTLayers_dg.1.vars.proj_w_1_p', 'GTLayers_dg.1.vars.proj_b_1_p', 'GTLayers_dg.1.vars.ml_fc_w1', 'GTLayers_dg.1.vars.ml_fc_b1', 'GTLayers_dg.1.vars.ml_fc_w2', 'GTLayers_dg.1.vars.ml_fc_b2', 'GTLayers_dg.1.vars.ml_fc_w3', 'GTLayers_dg.1.vars.ml_fc_b3', 'GTLayers_dg.1.vars.gcn_w_0', 'GTLayers_dg.1.vars.gcn_w_1', 'GTLayers_dg.1.vars.gcn_w_2', 'GTLayers_dg.1.vars.GT_linear_l_w_dg_0', 'GTLayers_dg.1.vars.GT_linear_r_w_dg_0', 'GTLayers_dg.1.vars.GT_att_l_dg_0', 'GTLayers_dg.1.vars.GT_att_r_dg_0', 'GTLayers_dg.1.vars.linear_final_dg_0', 'GTLayers_dg.1.vars.GT_linear_l_w_dg_1', 'GTLayers_dg.1.vars.GT_linear_r_w_dg_1', 'GTLayers_dg.1.vars.GT_att_l_dg_1', 'GTLayers_dg.1.vars.GT_att_r_dg_1', 'GTLayers_dg.1.vars.linear_final_dg_1', 'GTLayers_dg.1.vars.GT_linear_l_w_pt_0', 'GTLayers_dg.1.vars.GT_linear_r_w_pt_0', 'GTLayers_dg.1.vars.GT_att_l_pt_0', 'GTLayers_dg.1.vars.GT_att_r_pt_0', 'GTLayers_dg.1.vars.linear_final_pt_0', 'GTLayers_dg.1.vars.GT_linear_l_w_pt_1', 'GTLayers_dg.1.vars.GT_linear_r_w_pt_1', 'GTLayers_dg.1.vars.GT_att_l_pt_1', 'GTLayers_dg.1.vars.GT_att_r_pt_1', 'GTLayers_dg.1.vars.linear_final_pt_1', 'GTLayers_dg.1.LN.weight', 'GTLayers_dg.1.LN.bias', 'GTLayers_pt.0.vars.fc_list_w_0', 'GTLayers_pt.0.vars.fc_list_b_0', 'GTLayers_pt.0.vars.fc_list_w_1', 'GTLayers_pt.0.vars.fc_list_b_1', 'GTLayers_pt.0.vars.proj_w_0_d', 'GTLayers_pt.0.vars.proj_b_0_d', 'GTLayers_pt.0.vars.proj_w_1_d', 'GTLayers_pt.0.vars.proj_b_1_d', 'GTLayers_pt.0.vars.proj_w_0_p', 'GTLayers_pt.0.vars.proj_b_0_p', 'GTLayers_pt.0.vars.proj_w_1_p', 'GTLayers_pt.0.vars.proj_b_1_p', 'GTLayers_pt.0.vars.ml_fc_w1', 'GTLayers_pt.0.vars.ml_fc_b1', 'GTLayers_pt.0.vars.ml_fc_w2', 'GTLayers_pt.0.vars.ml_fc_b2', 'GTLayers_pt.0.vars.ml_fc_w3', 'GTLayers_pt.0.vars.ml_fc_b3', 'GTLayers_pt.0.vars.gcn_w_0', 'GTLayers_pt.0.vars.gcn_w_1', 'GTLayers_pt.0.vars.gcn_w_2', 'GTLayers_pt.0.vars.GT_linear_l_w_dg_0', 'GTLayers_pt.0.vars.GT_linear_r_w_dg_0', 'GTLayers_pt.0.vars.GT_att_l_dg_0', 'GTLayers_pt.0.vars.GT_att_r_dg_0', 'GTLayers_pt.0.vars.linear_final_dg_0', 'GTLayers_pt.0.vars.GT_linear_l_w_dg_1', 'GTLayers_pt.0.vars.GT_linear_r_w_dg_1', 'GTLayers_pt.0.vars.GT_att_l_dg_1', 'GTLayers_pt.0.vars.GT_att_r_dg_1', 'GTLayers_pt.0.vars.linear_final_dg_1', 'GTLayers_pt.0.vars.GT_linear_l_w_pt_0', 'GTLayers_pt.0.vars.GT_linear_r_w_pt_0', 'GTLayers_pt.0.vars.GT_att_l_pt_0', 'GTLayers_pt.0.vars.GT_att_r_pt_0', 'GTLayers_pt.0.vars.linear_final_pt_0', 'GTLayers_pt.0.vars.GT_linear_l_w_pt_1', 'GTLayers_pt.0.vars.GT_linear_r_w_pt_1', 'GTLayers_pt.0.vars.GT_att_l_pt_1', 'GTLayers_pt.0.vars.GT_att_r_pt_1', 'GTLayers_pt.0.vars.linear_final_pt_1', 'GTLayers_pt.0.LN.weight', 'GTLayers_pt.0.LN.bias', 'GTLayers_pt.1.vars.fc_list_w_0', 'GTLayers_pt.1.vars.fc_list_b_0', 'GTLayers_pt.1.vars.fc_list_w_1', 'GTLayers_pt.1.vars.fc_list_b_1', 'GTLayers_pt.1.vars.proj_w_0_d', 'GTLayers_pt.1.vars.proj_b_0_d', 'GTLayers_pt.1.vars.proj_w_1_d', 'GTLayers_pt.1.vars.proj_b_1_d', 'GTLayers_pt.1.vars.proj_w_0_p', 'GTLayers_pt.1.vars.proj_b_0_p', 'GTLayers_pt.1.vars.proj_w_1_p', 'GTLayers_pt.1.vars.proj_b_1_p', 'GTLayers_pt.1.vars.ml_fc_w1', 'GTLayers_pt.1.vars.ml_fc_b1', 'GTLayers_pt.1.vars.ml_fc_w2', 'GTLayers_pt.1.vars.ml_fc_b2', 'GTLayers_pt.1.vars.ml_fc_w3', 'GTLayers_pt.1.vars.ml_fc_b3', 'GTLayers_pt.1.vars.gcn_w_0', 'GTLayers_pt.1.vars.gcn_w_1', 'GTLayers_pt.1.vars.gcn_w_2', 'GTLayers_pt.1.vars.GT_linear_l_w_dg_0', 'GTLayers_pt.1.vars.GT_linear_r_w_dg_0', 'GTLayers_pt.1.vars.GT_att_l_dg_0', 'GTLayers_pt.1.vars.GT_att_r_dg_0', 'GTLayers_pt.1.vars.linear_final_dg_0', 'GTLayers_pt.1.vars.GT_linear_l_w_dg_1', 'GTLayers_pt.1.vars.GT_linear_r_w_dg_1', 'GTLayers_pt.1.vars.GT_att_l_dg_1', 'GTLayers_pt.1.vars.GT_att_r_dg_1', 'GTLayers_pt.1.vars.linear_final_dg_1', 'GTLayers_pt.1.vars.GT_linear_l_w_pt_0', 'GTLayers_pt.1.vars.GT_linear_r_w_pt_0', 'GTLayers_pt.1.vars.GT_att_l_pt_0', 'GTLayers_pt.1.vars.GT_att_r_pt_0', 'GTLayers_pt.1.vars.linear_final_pt_0', 'GTLayers_pt.1.vars.GT_linear_l_w_pt_1', 'GTLayers_pt.1.vars.GT_linear_r_w_pt_1', 'GTLayers_pt.1.vars.GT_att_l_pt_1', 'GTLayers_pt.1.vars.GT_att_r_pt_1', 'GTLayers_pt.1.vars.linear_final_pt_1', 'GTLayers_pt.1.LN.weight', 'GTLayers_pt.1.LN.bias'])\n"
     ]
    },
    {
     "name": "stderr",
     "output_type": "stream",
     "text": [
      "/var/folders/0v/h_hg_1mj17d5ssrjq1z2m6x80000gp/T/ipykernel_91377/4293087749.py:4: FutureWarning: You are using `torch.load` with `weights_only=False` (the current default value), which uses the default pickle module implicitly. It is possible to construct malicious pickle data which will execute arbitrary code during unpickling (See https://github.com/pytorch/pytorch/blob/main/SECURITY.md#untrusted-models for more details). In a future release, the default value for `weights_only` will be flipped to `True`. This limits the functions that could be executed during unpickling. Arbitrary objects will no longer be allowed to be loaded via this mode unless they are explicitly allowlisted by the user via `torch.serialization.add_safe_globals`. We recommend you start setting `weights_only=True` for any use case where you don't have full control of the loaded file. Please open an issue on GitHub for any issues related to this experimental feature.\n",
      "  state_dict = torch.load('best_model.pth', map_location=device)\n"
     ]
    }
   ],
   "source": [
    "import torch\n",
    "\n",
    "device = torch.device(\"cuda\" if torch.cuda.is_available() else \"cpu\")\n",
    "state_dict = torch.load('best_model.pth', map_location=device)\n",
    "print(state_dict.keys())"
   ]
  }
 ],
 "metadata": {
  "kernelspec": {
   "display_name": "Python geometric",
   "language": "python",
   "name": "geometric"
  },
  "language_info": {
   "codemirror_mode": {
    "name": "ipython",
    "version": 3
   },
   "file_extension": ".py",
   "mimetype": "text/x-python",
   "name": "python",
   "nbconvert_exporter": "python",
   "pygments_lexer": "ipython3",
   "version": "3.11.11"
  }
 },
 "nbformat": 4,
 "nbformat_minor": 2
}
